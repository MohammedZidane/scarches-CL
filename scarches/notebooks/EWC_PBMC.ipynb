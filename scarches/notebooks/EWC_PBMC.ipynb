{
 "cells": [
  {
   "cell_type": "code",
   "execution_count": 1,
   "id": "7122d745",
   "metadata": {},
   "outputs": [],
   "source": [
    "#To get detailed description if get CUDA error\n",
    "import os\n",
    "os.environ['CUDA_LAUNCH_BLOCKING'] = '1'"
   ]
  },
  {
   "cell_type": "code",
   "execution_count": 2,
   "id": "02492ce7",
   "metadata": {},
   "outputs": [],
   "source": [
    "import os\n",
    "os.chdir('../')\n",
    "import warnings\n",
    "warnings.simplefilter(action='ignore', category=FutureWarning)\n",
    "warnings.simplefilter(action='ignore', category=UserWarning)"
   ]
  },
  {
   "cell_type": "code",
   "execution_count": 3,
   "id": "f012a141",
   "metadata": {},
   "outputs": [
    {
     "name": "stderr",
     "output_type": "stream",
     "text": [
      "Global seed set to 0\n",
      "/home/mohammed/anaconda3/envs/scarches-cl2/lib/python3.7/site-packages/pytorch_lightning/utilities/warnings.py:54: LightningDeprecationWarning: pytorch_lightning.utilities.warnings.rank_zero_deprecation has been deprecated in v1.6 and will be removed in v1.8. Use the equivalent function from the pytorch_lightning.utilities.rank_zero module instead.\n",
      "  \"pytorch_lightning.utilities.warnings.rank_zero_deprecation has been deprecated in v1.6\"\n",
      "/home/mohammed/anaconda3/envs/scarches-cl2/lib/python3.7/site-packages/pytorch_lightning/utilities/warnings.py:58: LightningDeprecationWarning: The `pytorch_lightning.loggers.base.rank_zero_experiment` is deprecated in v1.7 and will be removed in v1.9. Please use `pytorch_lightning.loggers.logger.rank_zero_experiment` instead.\n",
      "  return new_rank_zero_deprecation(*args, **kwargs)\n"
     ]
    }
   ],
   "source": [
    "import scanpy as sc\n",
    "import torch\n",
    "import scarches as sca\n",
    "from scarches.dataset.trvae.data_handling import remove_sparsity\n",
    "import matplotlib.pyplot as plt\n",
    "import numpy as np\n",
    "import gdown\n",
    "import time"
   ]
  },
  {
   "cell_type": "code",
   "execution_count": 4,
   "id": "f7f48755",
   "metadata": {},
   "outputs": [],
   "source": [
    "st = time.time()"
   ]
  },
  {
   "cell_type": "code",
   "execution_count": 5,
   "id": "f84ce1fb",
   "metadata": {},
   "outputs": [],
   "source": [
    "sc.settings.set_figure_params(dpi=200, frameon=False)\n",
    "sc.set_figure_params(dpi=200)\n",
    "sc.set_figure_params(figsize=(4, 4))\n",
    "torch.set_printoptions(precision=3, sci_mode=False, edgeitems=7)"
   ]
  },
  {
   "cell_type": "code",
   "execution_count": 6,
   "id": "96b4b2d8",
   "metadata": {},
   "outputs": [],
   "source": [
    "# url = 'https://drive.google.com/uc?id=1Vh6RpYkusbGIZQC8GMFe3OKVDk5PWEpC'\n",
    "# output = 'pbmc.h5ad'\n",
    "# gdown.download(url, output, quiet=False)"
   ]
  },
  {
   "cell_type": "code",
   "execution_count": 7,
   "id": "6e656d70",
   "metadata": {},
   "outputs": [],
   "source": [
    "adata = sc.read('pbmc.h5ad')\n",
    "# adata = sc.pp.subsample(adata, fraction=None, n_obs=5000, random_state=0, copy=True)"
   ]
  },
  {
   "cell_type": "code",
   "execution_count": 8,
   "id": "04d11c6f",
   "metadata": {},
   "outputs": [],
   "source": [
    "adata.X = adata.layers[\"counts\"].copy()"
   ]
  },
  {
   "cell_type": "code",
   "execution_count": 9,
   "id": "3fc02ba2",
   "metadata": {},
   "outputs": [],
   "source": [
    "condition_key = 'batch'\n",
    "target_conditions = ['10X']\n",
    "\n",
    "trvae_epochs = 500\n",
    "surgery_epochs = 500\n",
    "\n",
    "early_stopping_kwargs = {\n",
    "    \"early_stopping_metric\": \"val_unweighted_loss\",\n",
    "    \"threshold\": 0,\n",
    "    \"patience\": 20,\n",
    "    \"reduce_lr\": True,\n",
    "    \"lr_patience\": 13,\n",
    "    \"lr_factor\": 0.1,\n",
    "}"
   ]
  },
  {
   "cell_type": "code",
   "execution_count": 10,
   "id": "ab051306",
   "metadata": {},
   "outputs": [],
   "source": [
    "# target_conditions = [\"10X\"]\n",
    "# source_adata = adata[~adata.obs.study.isin(target_conditions)].copy()\n",
    "# target_adata = adata[adata.obs.study.isin(target_conditions)].copy()\n",
    "# print(source_adata.obs['study'])\n",
    "# print(target_adata.obs['study'])"
   ]
  },
  {
   "cell_type": "code",
   "execution_count": null,
   "id": "fd158f38",
   "metadata": {},
   "outputs": [],
   "source": [
    "removed_viallni = ['Villani']\n",
    "adata_villani_removed = adata[~adata.obs['study'].isin(removed_viallni)].copy()\n",
    "source_adata = adata_villani_removed[adata_villani_removed.obs['study'].isin(['Freytag'])].copy()\n",
    "# target_adata = adata[adata.obs.study.isin(target_conditions)].copy()\n",
    "source_conditions = source_adata.obs['batch'].unique().tolist()\n",
    "print(adata_villani_removed.obs['batch'])\n",
    "source_adata, source_conditions"
   ]
  },
  {
   "cell_type": "code",
   "execution_count": null,
   "id": "0046d11c",
   "metadata": {},
   "outputs": [],
   "source": [
    "removed_batches = ['Freytag']\n",
    "adata_tasks = adata_villani_removed[~adata_villani_removed.obs.study.isin(removed_batches)].copy()\n",
    "adata_tasks_obs = adata_tasks.obs['batch']\n",
    "tasks_list = list(set(adata_tasks_obs))\n",
    "tasks_list"
   ]
  },
  {
   "cell_type": "code",
   "execution_count": null,
   "id": "6731d779",
   "metadata": {},
   "outputs": [],
   "source": [
    "source_adata.raw = source_adata"
   ]
  },
  {
   "cell_type": "code",
   "execution_count": null,
   "id": "1ac62288",
   "metadata": {},
   "outputs": [],
   "source": [
    "source_adata"
   ]
  },
  {
   "cell_type": "code",
   "execution_count": null,
   "id": "35660587",
   "metadata": {},
   "outputs": [],
   "source": [
    "sc.pp.normalize_total(source_adata)"
   ]
  },
  {
   "cell_type": "code",
   "execution_count": null,
   "id": "6b79d3b4",
   "metadata": {},
   "outputs": [],
   "source": [
    "sc.pp.log1p(source_adata)"
   ]
  },
  {
   "cell_type": "code",
   "execution_count": null,
   "id": "5abab57e",
   "metadata": {},
   "outputs": [],
   "source": [
    "sc.pp.highly_variable_genes(\n",
    "    source_adata,\n",
    "    n_top_genes=2000,\n",
    "    batch_key=\"batch\",\n",
    "    subset=True)"
   ]
  },
  {
   "cell_type": "code",
   "execution_count": null,
   "id": "91cbd241",
   "metadata": {},
   "outputs": [],
   "source": [
    "source_adata.X = source_adata.raw[:, source_adata.var_names].X"
   ]
  },
  {
   "cell_type": "code",
   "execution_count": null,
   "id": "ce5986ed",
   "metadata": {},
   "outputs": [],
   "source": [
    "source_adata"
   ]
  },
  {
   "cell_type": "code",
   "execution_count": null,
   "id": "ff7dd87d",
   "metadata": {},
   "outputs": [],
   "source": [
    "trvae = sca.models.TRVAE(\n",
    "    adata=source_adata,\n",
    "    condition_key=condition_key,\n",
    "    conditions=source_conditions,\n",
    "    hidden_layer_sizes=[128, 128],\n",
    ")"
   ]
  },
  {
   "cell_type": "code",
   "execution_count": null,
   "id": "20b8e92f",
   "metadata": {},
   "outputs": [],
   "source": [
    "trvae.train(\n",
    "    n_epochs=trvae_epochs,\n",
    "    alpha_epoch_anneal=200,\n",
    "    early_stopping_kwargs=early_stopping_kwargs,\n",
    "    ID=0,\n",
    "    learning_approach='ewc',\n",
    ")"
   ]
  },
  {
   "cell_type": "code",
   "execution_count": null,
   "id": "d821f67e",
   "metadata": {},
   "outputs": [],
   "source": [
    "adata_latent = sc.AnnData(trvae.get_latent())\n",
    "adata_latent.obs[\"cell_type\"] = source_adata.obs[\"final_annotation\"].tolist()\n",
    "adata_latent.obs[\"batch\"] = source_adata.obs[\"batch\"].tolist()"
   ]
  },
  {
   "cell_type": "code",
   "execution_count": null,
   "id": "2ba6c5c5",
   "metadata": {},
   "outputs": [],
   "source": [
    "sc.pp.neighbors(adata_latent, n_neighbors=8)\n",
    "sc.tl.leiden(adata_latent)\n",
    "sc.tl.umap(adata_latent)\n",
    "sc.pl.umap(adata_latent,\n",
    "           color=['batch', 'cell_type'],\n",
    "           frameon=False,\n",
    "           wspace=0.6,\n",
    "           )"
   ]
  },
  {
   "cell_type": "code",
   "execution_count": null,
   "id": "af9ccf01",
   "metadata": {},
   "outputs": [],
   "source": [
    "ref_path = 'reference_model_PBMC/'\n",
    "trvae.save(ref_path, overwrite=True)"
   ]
  },
  {
   "cell_type": "code",
   "execution_count": null,
   "id": "e4c6b50f",
   "metadata": {},
   "outputs": [],
   "source": [
    "list_task_i = []\n",
    "for ID, task in enumerate(tasks_list, start=1): #adata_tasks[1:] if you wanna skip the first item\n",
    "    print(ID, task)\n",
    "    task_i = adata_tasks[adata_tasks.obs['batch'].isin([task])]\n",
    "    task_i = task_i[:, source_adata.var_names]\n",
    "    new_trvae = sca.models.TRVAE.load_query_data(adata=task_i,\n",
    "                                                 learning_approach = 'ewc',\n",
    "                                                 model=ref_path)\n",
    "    new_trvae.train(\n",
    "    n_epochs=surgery_epochs,\n",
    "    alpha_epoch_anneal=200,\n",
    "    early_stopping_kwargs=early_stopping_kwargs,\n",
    "    ID=ID,\n",
    "    weight_decay=0,\n",
    "    learning_approach = 'ewc'\n",
    "    )\n",
    "    \n",
    "    ref_path = 'reference_model_PBMC/'\n",
    "    new_trvae.save(ref_path, overwrite=True)\n",
    "    list_task_i.append(task_i)"
   ]
  },
  {
   "cell_type": "code",
   "execution_count": null,
   "id": "36841518",
   "metadata": {},
   "outputs": [],
   "source": [
    "adata_full = source_adata.concatenate(list_task_i, batch_key=\"ref_query\")\n",
    "adata_full"
   ]
  },
  {
   "cell_type": "code",
   "execution_count": null,
   "id": "0e1496dd",
   "metadata": {},
   "outputs": [],
   "source": [
    "full_latent = sc.AnnData(new_trvae.get_latent(adata_full.X, adata_full.obs[condition_key]))\n",
    "full_latent.obs['cell_type'] = adata_full.obs[\"final_annotation\"].tolist()\n",
    "full_latent.obs['batch'] = adata_full.obs[\"batch\"].tolist()"
   ]
  },
  {
   "cell_type": "code",
   "execution_count": null,
   "id": "0382a3d6",
   "metadata": {},
   "outputs": [],
   "source": [
    "sc.pp.neighbors(full_latent, n_neighbors=8)\n",
    "sc.tl.leiden(full_latent)\n",
    "sc.tl.umap(full_latent)\n",
    "sc.pl.umap(full_latent,\n",
    "           color=['batch', 'cell_type'],\n",
    "           frameon=False,\n",
    "           wspace=0.6,\n",
    "           )"
   ]
  },
  {
   "cell_type": "code",
   "execution_count": null,
   "id": "ee5a5280",
   "metadata": {},
   "outputs": [],
   "source": [
    "elapsed_time = time.time() - st\n",
    "print('Execution time:', time.strftime(\"%H:%M:%S\", time.gmtime(elapsed_time)))"
   ]
  },
  {
   "cell_type": "code",
   "execution_count": null,
   "id": "89562428",
   "metadata": {},
   "outputs": [],
   "source": [
    "import scanpy\n",
    "import scib\n",
    "arches_nb_graph=sc.pp.neighbors(full_latent, n_neighbors=8, n_pcs=None, use_rep='X')\n",
    "Batch_corr_graph_conn_rehearsal=scib.metrics.graph_connectivity(full_latent, 'batch')\n",
    "Batch_corr_graph_conn_justone \n",
    "\n",
    "\n"
   ]
  },
  {
   "cell_type": "code",
   "execution_count": null,
   "id": "cc550c61",
   "metadata": {},
   "outputs": [],
   "source": [
    "sc.tl.umap(full_latent)\n",
    "Batch_corr_ASW_justone=scib.metrics.silhouette_batch(full_latent, batch_key='batch', group_key='cell_type', embed='X_umap')\n",
    "Batch_corr_ASW_justone"
   ]
  },
  {
   "cell_type": "code",
   "execution_count": null,
   "id": "b7638c44",
   "metadata": {},
   "outputs": [],
   "source": [
    "Bio_cons_ASW_rehearsal=scib.metrics.silhouette(full_latent, group_key='cell_type', embed='X_umap')\n",
    "Bio_cons_ASW_rehearsal"
   ]
  },
  {
   "cell_type": "code",
   "execution_count": null,
   "id": "da9bd660",
   "metadata": {},
   "outputs": [],
   "source": [
    "isolated_labels_justone=scib.metrics.isolated_labels(full_latent, label_key='cell_type', batch_key='batch', embed='X_umap')\n",
    "isolated_labels_justone"
   ]
  },
  {
   "cell_type": "code",
   "execution_count": null,
   "id": "2847f81b",
   "metadata": {},
   "outputs": [],
   "source": [
    "pcr_justone=scib.metrics.pcr_comparison(source_adata, adata, covariate='batch', embed=None, n_comps=50, scale=False, verbose=False)\n",
    "pcr_justone"
   ]
  }
 ],
 "metadata": {
  "kernelspec": {
   "display_name": "Python 3 (ipykernel)",
   "language": "python",
   "name": "python3"
  },
  "language_info": {
   "codemirror_mode": {
    "name": "ipython",
    "version": 3
   },
   "file_extension": ".py",
   "mimetype": "text/x-python",
   "name": "python",
   "nbconvert_exporter": "python",
   "pygments_lexer": "ipython3",
   "version": "3.7.16"
  }
 },
 "nbformat": 4,
 "nbformat_minor": 5
}
